{
 "cells": [
  {
   "cell_type": "code",
   "execution_count": 3,
   "metadata": {},
   "outputs": [],
   "source": [
    "import os\n",
    "import torch\n",
    "import torch.nn as nn\n",
    "import json\n",
    "from torchvision import models, transforms\n",
    "from PIL import Image\n",
    "from tqdm.notebook import tqdm"
   ]
  },
  {
   "cell_type": "markdown",
   "metadata": {},
   "source": [
    "모델을 새로 불러온 뒤 우리 데이터셋에 맞춰 수정"
   ]
  },
  {
   "cell_type": "code",
   "execution_count": 4,
   "metadata": {},
   "outputs": [],
   "source": [
    "vgg16_model = models.vgg16(weights='DEFAULT')\n",
    "num_features = vgg16_model.classifier[6].in_features\n",
    "vgg16_model.classifier[6] = nn.Linear(num_features, 300)"
   ]
  },
  {
   "cell_type": "markdown",
   "metadata": {},
   "source": [
    "우리 데이터셋에 대해 학습한 weight 불러오기"
   ]
  },
  {
   "cell_type": "code",
   "execution_count": 5,
   "metadata": {},
   "outputs": [
    {
     "data": {
      "text/plain": [
       "<All keys matched successfully>"
      ]
     },
     "execution_count": 5,
     "metadata": {},
     "output_type": "execute_result"
    }
   ],
   "source": [
    "vgg16_model.load_state_dict(torch.load('vgg16_classifier_4.pth'))"
   ]
  },
  {
   "cell_type": "markdown",
   "metadata": {},
   "source": [
    "information[0]에는 0번 labes의 정보가, information[1]에는 1번 labes의 정보가, ..."
   ]
  },
  {
   "cell_type": "code",
   "execution_count": 6,
   "metadata": {},
   "outputs": [],
   "source": [
    "label_folder = \"label\"\n",
    "information = []\n",
    "\n",
    "for filename in os.listdir(label_folder):\n",
    "    if filename.endswith(\".json\"):\n",
    "        file_path = os.path.join(label_folder, filename)\n",
    "        with open(file_path, 'r', encoding='utf-8-sig') as file:\n",
    "            json_content = json.load(file)\n",
    "            information.append(json_content)"
   ]
  },
  {
   "cell_type": "code",
   "execution_count": 7,
   "metadata": {},
   "outputs": [
    {
     "data": {
      "text/plain": [
       "{'file_name': 'K-029818_0_2_0_0_75_000_200.png',\n",
       " 'width': 976,\n",
       " 'height': 1280,\n",
       " 'imgfile': 'K-029818_0_2_0_0_75_000_200.png',\n",
       " 'drug_N': 'K-029818',\n",
       " 'drug_S': '정상알약',\n",
       " 'back_color': '연회색 배경',\n",
       " 'drug_dir': '앞면',\n",
       " 'light_color': '전구색',\n",
       " 'camera_la': 75,\n",
       " 'camera_lo': 0,\n",
       " 'size': 200,\n",
       " 'item_seq': '201206159',\n",
       " 'leng_long': '13.2',\n",
       " 'leng_short': '7.4',\n",
       " 'thick': '4.3',\n",
       " 'id': 1,\n",
       " 'dl_idx': '29817',\n",
       " 'dl_mapping_code': 'K-029818',\n",
       " 'dl_name': '지소렌정',\n",
       " 'dl_name_en': 'G-Soren Tab.',\n",
       " 'img_key': 'http://connectdi.com/design/img/drug/147426622886300027.jpg',\n",
       " 'dl_material': '애엽이소프로판올연조엑스',\n",
       " 'dl_material_en': 'Artemisia Herb Isopropanol Soft Ext.(20→1)',\n",
       " 'dl_custom_shape': '정제, 저작정',\n",
       " 'dl_company': '지엘팜텍(주)',\n",
       " 'dl_company_en': 'Glpharmtech',\n",
       " 'di_company_mf': '풍림무약',\n",
       " 'di_company_mf_en': 'Richwood Trading Company',\n",
       " 'di_item_permit_date': '20120717',\n",
       " 'di_class_no': '[02320]소화성궤양용제',\n",
       " 'di_etc_otc_code': '전문의약품',\n",
       " 'di_edi_code': '624200010',\n",
       " 'chart': '녹색의 타원형 필름코팅정제',\n",
       " 'drug_shape': '타원형',\n",
       " 'print_front': 'GL',\n",
       " 'print_back': '',\n",
       " 'color_class1': '연두',\n",
       " 'color_class2': '',\n",
       " 'line_front': '',\n",
       " 'line_back': '',\n",
       " 'img_regist_ts': '20120813',\n",
       " 'form_code_name': '필름코팅정',\n",
       " 'mark_code_front_anal': '',\n",
       " 'mark_code_back_anal': '',\n",
       " 'mark_code_front_img': '',\n",
       " 'mark_code_back_img': '',\n",
       " 'mark_code_front': '',\n",
       " 'mark_code_back': '',\n",
       " 'change_date': '20170610'}"
      ]
     },
     "execution_count": 7,
     "metadata": {},
     "output_type": "execute_result"
    }
   ],
   "source": [
    "sampledict = information[0]['images'][0]\n",
    "sampledict\n"
   ]
  },
  {
   "cell_type": "code",
   "execution_count": 34,
   "metadata": {},
   "outputs": [],
   "source": [
    "#필요한것들\n",
    "infolist = ['drug_N',\n",
    "'drug_S',\n",
    "'drug_dir',\n",
    "'light_color',\n",
    "'dl_name',\n",
    "#'dl_name_en',\n",
    "#'img_key',\n",
    "'dl_material',\n",
    "#'dl_material_en',\n",
    "'dl_custom_shape',\n",
    "'dl_company',\n",
    "#'dl_company_en',\n",
    "'di_company_mf',\n",
    "'di_item_permit_date',\n",
    "'di_class_no',\n",
    "'di_etc_otc_code',\n",
    "'di_edi_code',\n",
    "'chart',\n",
    "#'drug_shape',\n",
    "#'form_code_name',\n",
    "]"
   ]
  },
  {
   "cell_type": "code",
   "execution_count": 35,
   "metadata": {},
   "outputs": [
    {
     "data": {
      "text/plain": [
       "['K-029818',\n",
       " '정상알약',\n",
       " '앞면',\n",
       " '전구색',\n",
       " '지소렌정',\n",
       " '애엽이소프로판올연조엑스',\n",
       " '정제, 저작정',\n",
       " '지엘팜텍(주)',\n",
       " '풍림무약',\n",
       " '20120717',\n",
       " '[02320]소화성궤양용제',\n",
       " '전문의약품',\n",
       " '624200010',\n",
       " '녹색의 타원형 필름코팅정제']"
      ]
     },
     "execution_count": 35,
     "metadata": {},
     "output_type": "execute_result"
    }
   ],
   "source": [
    "[sampledict.get(info) for info in infolist]"
   ]
  },
  {
   "cell_type": "markdown",
   "metadata": {},
   "source": [
    "# 어플리케이션 구현"
   ]
  },
  {
   "cell_type": "code",
   "execution_count": 10,
   "metadata": {},
   "outputs": [],
   "source": [
    "# import torch\n",
    "# import torch.nn as nn\n",
    "# from torchvision import models, transforms\n",
    "# from PIL import Image\n",
    "# from tqdm.notebook import tqdm\n",
    "\n",
    "import gradio as gr\n"
   ]
  },
  {
   "cell_type": "code",
   "execution_count": 36,
   "metadata": {},
   "outputs": [],
   "source": [
    "def infer_vgg16(weight_path, image_tensor):\n",
    "    #### model load ####\n",
    "    vgg16_model = models.vgg16(weights='DEFAULT')\n",
    "    num_features = vgg16_model.classifier[6].in_features\n",
    "    vgg16_model.classifier[6] = nn.Linear(num_features, 300)\n",
    "    vgg16_model.load_state_dict(torch.load(weight_path))\n",
    "    model = vgg16_model\n",
    "\n",
    "    #### inference ####\n",
    "    model.eval()\n",
    "    with torch.inference_mode():\n",
    "        output = model(image_tensor)\n",
    "    return output\n",
    "\n",
    "def gradio_interface(weight_path, image):\n",
    "    #### image to tensor ####\n",
    "    transform = transforms.Compose([\n",
    "        transforms.Resize((224, 224)),\n",
    "        transforms.ToTensor(),\n",
    "    ])\n",
    "    image = Image.fromarray(image, 'RGB')\n",
    "    image = transform(image).unsqueeze(0)\n",
    "\n",
    "    #### inference : out_idx(int) ####\n",
    "    vggout = infer_vgg16(weight_path=weight_path, image_tensor=image)\n",
    "    out_idx = int(vggout.argmax())\n",
    "\n",
    "    #### output data from information ####\n",
    "    out_dict = information[out_idx]['images'][0]\n",
    "    output = [out_dict.get(info) for info in infolist]\n",
    "    preview_image = Image.open(requests.get(out_dict.get('img_key'), stream=True).raw)\n",
    "    return output, preview_image\n",
    "\n",
    "\n",
    "weightlist = [\n",
    "                \"./vgg16_classifier_4.pth\",\n",
    "            ]\n",
    "demo = gr.Interface(gradio_interface,\n",
    "                    [\n",
    "                        gr.Dropdown(weightlist,label=\"weight path\",info=\"test dropdown\"),\n",
    "                        gr.Image()\n",
    "                    ],\n",
    "                    outputs=['text',gr.Image()],\n",
    "                    allow_flagging='never'\n",
    "                    )"
   ]
  },
  {
   "cell_type": "markdown",
   "metadata": {},
   "source": [
    "### test code"
   ]
  },
  {
   "cell_type": "code",
   "execution_count": 12,
   "metadata": {},
   "outputs": [],
   "source": [
    "# image_path = './testimage001.jpg'\n",
    "# image = Image.open(image_path).convert('RGB')\n",
    "# transform = transforms.Compose([\n",
    "#     transforms.Resize((224, 224)),\n",
    "#     transforms.ToTensor(),\n",
    "# ])\n",
    "# image_tensor = transform(image).unsqueeze(0)\n",
    "# print(image_tensor.shape)\n",
    "# output = infer_vgg16(weight_path='./vgg16_classifier_4.pth', image_tensor=image_tensor)\n",
    "# int(output.argmax())"
   ]
  },
  {
   "cell_type": "markdown",
   "metadata": {},
   "source": [
    "# gradio"
   ]
  },
  {
   "cell_type": "code",
   "execution_count": 37,
   "metadata": {},
   "outputs": [
    {
     "name": "stdout",
     "output_type": "stream",
     "text": [
      "Running on local URL:  http://127.0.0.1:7865\n",
      "\n",
      "To create a public link, set `share=True` in `launch()`.\n"
     ]
    },
    {
     "data": {
      "text/html": [
       "<div><iframe src=\"http://127.0.0.1:7865/\" width=\"100%\" height=\"500\" allow=\"autoplay; camera; microphone; clipboard-read; clipboard-write;\" frameborder=\"0\" allowfullscreen></iframe></div>"
      ],
      "text/plain": [
       "<IPython.core.display.HTML object>"
      ]
     },
     "metadata": {},
     "output_type": "display_data"
    },
    {
     "data": {
      "text/plain": []
     },
     "execution_count": 37,
     "metadata": {},
     "output_type": "execute_result"
    }
   ],
   "source": [
    "demo.close()\n",
    "demo.launch()"
   ]
  }
 ],
 "metadata": {
  "kernelspec": {
   "display_name": ".aisys",
   "language": "python",
   "name": "python3"
  },
  "language_info": {
   "codemirror_mode": {
    "name": "ipython",
    "version": 3
   },
   "file_extension": ".py",
   "mimetype": "text/x-python",
   "name": "python",
   "nbconvert_exporter": "python",
   "pygments_lexer": "ipython3",
   "version": "3.10.13"
  }
 },
 "nbformat": 4,
 "nbformat_minor": 2
}
